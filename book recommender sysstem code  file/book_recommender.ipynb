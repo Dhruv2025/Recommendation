{
  "metadata": {
    "language_info": {
      "codemirror_mode": {
        "name": "python",
        "version": 3
      },
      "file_extension": ".py",
      "mimetype": "text/x-python",
      "name": "python",
      "nbconvert_exporter": "python",
      "pygments_lexer": "ipython3",
      "version": "3.8"
    },
    "kernelspec": {
      "name": "python",
      "display_name": "Python (Pyodide)",
      "language": "python"
    }
  },
  "nbformat_minor": 4,
  "nbformat": 4,
  "cells": [
    {
      "cell_type": "code",
      "source": "import numpy as np\nimport pandas as pd",
      "metadata": {
        "trusted": true
      },
      "execution_count": 5,
      "outputs": []
    },
    {
      "cell_type": "code",
      "source": "books = pd.read_csv('Books.csv')\nusers = pd.read_csv('Users.csv')\nratings = pd.read_csv('Ratings.csv')",
      "metadata": {
        "trusted": true
      },
      "execution_count": 6,
      "outputs": [
        {
          "name": "stderr",
          "text": "<ipython-input-6-1bb591fbb88d>:1: DtypeWarning: Columns (3) have mixed types. Specify dtype option on import or set low_memory=False.\n  books = pd.read_csv('Books.csv')\n",
          "output_type": "stream"
        }
      ]
    },
    {
      "cell_type": "code",
      "source": "books.head()",
      "metadata": {
        "trusted": true
      },
      "execution_count": 7,
      "outputs": [
        {
          "execution_count": 7,
          "output_type": "execute_result",
          "data": {
            "text/plain": "         ISBN                                         Book-Title  \\\n0  0195153448                                Classical Mythology   \n1  0002005018                                       Clara Callan   \n2  0060973129                               Decision in Normandy   \n3  0374157065  Flu: The Story of the Great Influenza Pandemic...   \n4  0393045218                             The Mummies of Urumchi   \n\n            Book-Author Year-Of-Publication                   Publisher  \\\n0    Mark P. O. Morford                2002     Oxford University Press   \n1  Richard Bruce Wright                2001       HarperFlamingo Canada   \n2          Carlo D'Este                1991             HarperPerennial   \n3      Gina Bari Kolata                1999        Farrar Straus Giroux   \n4       E. J. W. Barber                1999  W. W. Norton &amp; Company   \n\n                                         Image-URL-S  \\\n0  http://images.amazon.com/images/P/0195153448.0...   \n1  http://images.amazon.com/images/P/0002005018.0...   \n2  http://images.amazon.com/images/P/0060973129.0...   \n3  http://images.amazon.com/images/P/0374157065.0...   \n4  http://images.amazon.com/images/P/0393045218.0...   \n\n                                         Image-URL-M  \\\n0  http://images.amazon.com/images/P/0195153448.0...   \n1  http://images.amazon.com/images/P/0002005018.0...   \n2  http://images.amazon.com/images/P/0060973129.0...   \n3  http://images.amazon.com/images/P/0374157065.0...   \n4  http://images.amazon.com/images/P/0393045218.0...   \n\n                                         Image-URL-L  \n0  http://images.amazon.com/images/P/0195153448.0...  \n1  http://images.amazon.com/images/P/0002005018.0...  \n2  http://images.amazon.com/images/P/0060973129.0...  \n3  http://images.amazon.com/images/P/0374157065.0...  \n4  http://images.amazon.com/images/P/0393045218.0...  ",
            "text/html": "<div>\n<style scoped>\n    .dataframe tbody tr th:only-of-type {\n        vertical-align: middle;\n    }\n\n    .dataframe tbody tr th {\n        vertical-align: top;\n    }\n\n    .dataframe thead th {\n        text-align: right;\n    }\n</style>\n<table border=\"1\" class=\"dataframe\">\n  <thead>\n    <tr style=\"text-align: right;\">\n      <th></th>\n      <th>ISBN</th>\n      <th>Book-Title</th>\n      <th>Book-Author</th>\n      <th>Year-Of-Publication</th>\n      <th>Publisher</th>\n      <th>Image-URL-S</th>\n      <th>Image-URL-M</th>\n      <th>Image-URL-L</th>\n    </tr>\n  </thead>\n  <tbody>\n    <tr>\n      <th>0</th>\n      <td>0195153448</td>\n      <td>Classical Mythology</td>\n      <td>Mark P. O. Morford</td>\n      <td>2002</td>\n      <td>Oxford University Press</td>\n      <td>http://images.amazon.com/images/P/0195153448.0...</td>\n      <td>http://images.amazon.com/images/P/0195153448.0...</td>\n      <td>http://images.amazon.com/images/P/0195153448.0...</td>\n    </tr>\n    <tr>\n      <th>1</th>\n      <td>0002005018</td>\n      <td>Clara Callan</td>\n      <td>Richard Bruce Wright</td>\n      <td>2001</td>\n      <td>HarperFlamingo Canada</td>\n      <td>http://images.amazon.com/images/P/0002005018.0...</td>\n      <td>http://images.amazon.com/images/P/0002005018.0...</td>\n      <td>http://images.amazon.com/images/P/0002005018.0...</td>\n    </tr>\n    <tr>\n      <th>2</th>\n      <td>0060973129</td>\n      <td>Decision in Normandy</td>\n      <td>Carlo D'Este</td>\n      <td>1991</td>\n      <td>HarperPerennial</td>\n      <td>http://images.amazon.com/images/P/0060973129.0...</td>\n      <td>http://images.amazon.com/images/P/0060973129.0...</td>\n      <td>http://images.amazon.com/images/P/0060973129.0...</td>\n    </tr>\n    <tr>\n      <th>3</th>\n      <td>0374157065</td>\n      <td>Flu: The Story of the Great Influenza Pandemic...</td>\n      <td>Gina Bari Kolata</td>\n      <td>1999</td>\n      <td>Farrar Straus Giroux</td>\n      <td>http://images.amazon.com/images/P/0374157065.0...</td>\n      <td>http://images.amazon.com/images/P/0374157065.0...</td>\n      <td>http://images.amazon.com/images/P/0374157065.0...</td>\n    </tr>\n    <tr>\n      <th>4</th>\n      <td>0393045218</td>\n      <td>The Mummies of Urumchi</td>\n      <td>E. J. W. Barber</td>\n      <td>1999</td>\n      <td>W. W. Norton &amp;amp; Company</td>\n      <td>http://images.amazon.com/images/P/0393045218.0...</td>\n      <td>http://images.amazon.com/images/P/0393045218.0...</td>\n      <td>http://images.amazon.com/images/P/0393045218.0...</td>\n    </tr>\n  </tbody>\n</table>\n</div>"
          },
          "metadata": {}
        }
      ]
    },
    {
      "cell_type": "code",
      "source": "users.head()",
      "metadata": {
        "trusted": true
      },
      "execution_count": 8,
      "outputs": [
        {
          "execution_count": 8,
          "output_type": "execute_result",
          "data": {
            "text/plain": "   User-ID                            Location   Age\n0        1                  nyc, new york, usa   NaN\n1        2           stockton, california, usa  18.0\n2        3     moscow, yukon territory, russia   NaN\n3        4           porto, v.n.gaia, portugal  17.0\n4        5  farnborough, hants, united kingdom   NaN",
            "text/html": "<div>\n<style scoped>\n    .dataframe tbody tr th:only-of-type {\n        vertical-align: middle;\n    }\n\n    .dataframe tbody tr th {\n        vertical-align: top;\n    }\n\n    .dataframe thead th {\n        text-align: right;\n    }\n</style>\n<table border=\"1\" class=\"dataframe\">\n  <thead>\n    <tr style=\"text-align: right;\">\n      <th></th>\n      <th>User-ID</th>\n      <th>Location</th>\n      <th>Age</th>\n    </tr>\n  </thead>\n  <tbody>\n    <tr>\n      <th>0</th>\n      <td>1</td>\n      <td>nyc, new york, usa</td>\n      <td>NaN</td>\n    </tr>\n    <tr>\n      <th>1</th>\n      <td>2</td>\n      <td>stockton, california, usa</td>\n      <td>18.0</td>\n    </tr>\n    <tr>\n      <th>2</th>\n      <td>3</td>\n      <td>moscow, yukon territory, russia</td>\n      <td>NaN</td>\n    </tr>\n    <tr>\n      <th>3</th>\n      <td>4</td>\n      <td>porto, v.n.gaia, portugal</td>\n      <td>17.0</td>\n    </tr>\n    <tr>\n      <th>4</th>\n      <td>5</td>\n      <td>farnborough, hants, united kingdom</td>\n      <td>NaN</td>\n    </tr>\n  </tbody>\n</table>\n</div>"
          },
          "metadata": {}
        }
      ]
    },
    {
      "cell_type": "code",
      "source": "ratings.head()",
      "metadata": {
        "trusted": true
      },
      "execution_count": 9,
      "outputs": [
        {
          "execution_count": 9,
          "output_type": "execute_result",
          "data": {
            "text/plain": "   User-ID        ISBN  Book-Rating\n0   276725  034545104X            0\n1   276726  0155061224            5\n2   276727  0446520802            0\n3   276729  052165615X            3\n4   276729  0521795028            6",
            "text/html": "<div>\n<style scoped>\n    .dataframe tbody tr th:only-of-type {\n        vertical-align: middle;\n    }\n\n    .dataframe tbody tr th {\n        vertical-align: top;\n    }\n\n    .dataframe thead th {\n        text-align: right;\n    }\n</style>\n<table border=\"1\" class=\"dataframe\">\n  <thead>\n    <tr style=\"text-align: right;\">\n      <th></th>\n      <th>User-ID</th>\n      <th>ISBN</th>\n      <th>Book-Rating</th>\n    </tr>\n  </thead>\n  <tbody>\n    <tr>\n      <th>0</th>\n      <td>276725</td>\n      <td>034545104X</td>\n      <td>0</td>\n    </tr>\n    <tr>\n      <th>1</th>\n      <td>276726</td>\n      <td>0155061224</td>\n      <td>5</td>\n    </tr>\n    <tr>\n      <th>2</th>\n      <td>276727</td>\n      <td>0446520802</td>\n      <td>0</td>\n    </tr>\n    <tr>\n      <th>3</th>\n      <td>276729</td>\n      <td>052165615X</td>\n      <td>3</td>\n    </tr>\n    <tr>\n      <th>4</th>\n      <td>276729</td>\n      <td>0521795028</td>\n      <td>6</td>\n    </tr>\n  </tbody>\n</table>\n</div>"
          },
          "metadata": {}
        }
      ]
    },
    {
      "cell_type": "code",
      "source": "print(books.shape)\nprint(ratings.shape)\nprint(users.shape)",
      "metadata": {
        "trusted": true
      },
      "execution_count": 10,
      "outputs": [
        {
          "name": "stdout",
          "text": "(271360, 8)\n(1149780, 3)\n(278858, 3)\n",
          "output_type": "stream"
        }
      ]
    },
    {
      "cell_type": "code",
      "source": "books.isnull().sum()",
      "metadata": {
        "trusted": true
      },
      "execution_count": 11,
      "outputs": [
        {
          "execution_count": 11,
          "output_type": "execute_result",
          "data": {
            "text/plain": "ISBN                   0\nBook-Title             0\nBook-Author            1\nYear-Of-Publication    0\nPublisher              2\nImage-URL-S            0\nImage-URL-M            0\nImage-URL-L            3\ndtype: int64"
          },
          "metadata": {}
        }
      ]
    },
    {
      "cell_type": "code",
      "source": "books.duplicated().sum()",
      "metadata": {
        "trusted": true
      },
      "execution_count": 12,
      "outputs": [
        {
          "execution_count": 12,
          "output_type": "execute_result",
          "data": {
            "text/plain": "0"
          },
          "metadata": {}
        }
      ]
    },
    {
      "cell_type": "code",
      "source": "users.duplicated().sum()",
      "metadata": {
        "trusted": true
      },
      "execution_count": 13,
      "outputs": [
        {
          "execution_count": 13,
          "output_type": "execute_result",
          "data": {
            "text/plain": "0"
          },
          "metadata": {}
        }
      ]
    },
    {
      "cell_type": "code",
      "source": "ratings.duplicated().sum()",
      "metadata": {
        "trusted": true
      },
      "execution_count": 14,
      "outputs": [
        {
          "execution_count": 14,
          "output_type": "execute_result",
          "data": {
            "text/plain": "0"
          },
          "metadata": {}
        }
      ]
    },
    {
      "cell_type": "markdown",
      "source": "## Popularity Based Recommended System",
      "metadata": {}
    },
    {
      "cell_type": "code",
      "source": "ratings_width_name = ratings.merge(books,on = 'ISBN')",
      "metadata": {
        "trusted": true
      },
      "execution_count": 15,
      "outputs": []
    },
    {
      "cell_type": "code",
      "source": "num_rating_df = ratings_width_name.groupby('Book-Title').count()[['Book-Rating']].reset_index()",
      "metadata": {
        "trusted": true
      },
      "execution_count": 16,
      "outputs": []
    },
    {
      "cell_type": "code",
      "source": "num_rating_df.rename(columns={'Book-Rating':'num_ratings'},inplace = True)\nnum_rating_df",
      "metadata": {
        "trusted": true
      },
      "execution_count": 17,
      "outputs": [
        {
          "execution_count": 17,
          "output_type": "execute_result",
          "data": {
            "text/plain": "                                               Book-Title  num_ratings\n0        A Light in the Storm: The Civil War Diary of ...            4\n1                                   Always Have Popsicles            1\n2                    Apple Magic (The Collector's series)            1\n3        Ask Lily (Young Women of Faith: Lily Series, ...            1\n4        Beyond IBM: Leadership Marketing and Finance ...            1\n...                                                   ...          ...\n241066                                      Ã?Â?lpiraten.            2\n241067                     Ã?Â?rger mit Produkt X. Roman.            4\n241068                                Ã?Â?sterlich leben.            1\n241069                              Ã?Â?stlich der Berge.            3\n241070                                  Ã?Â?thique en toc            2\n\n[241071 rows x 2 columns]",
            "text/html": "<div>\n<style scoped>\n    .dataframe tbody tr th:only-of-type {\n        vertical-align: middle;\n    }\n\n    .dataframe tbody tr th {\n        vertical-align: top;\n    }\n\n    .dataframe thead th {\n        text-align: right;\n    }\n</style>\n<table border=\"1\" class=\"dataframe\">\n  <thead>\n    <tr style=\"text-align: right;\">\n      <th></th>\n      <th>Book-Title</th>\n      <th>num_ratings</th>\n    </tr>\n  </thead>\n  <tbody>\n    <tr>\n      <th>0</th>\n      <td>A Light in the Storm: The Civil War Diary of ...</td>\n      <td>4</td>\n    </tr>\n    <tr>\n      <th>1</th>\n      <td>Always Have Popsicles</td>\n      <td>1</td>\n    </tr>\n    <tr>\n      <th>2</th>\n      <td>Apple Magic (The Collector's series)</td>\n      <td>1</td>\n    </tr>\n    <tr>\n      <th>3</th>\n      <td>Ask Lily (Young Women of Faith: Lily Series, ...</td>\n      <td>1</td>\n    </tr>\n    <tr>\n      <th>4</th>\n      <td>Beyond IBM: Leadership Marketing and Finance ...</td>\n      <td>1</td>\n    </tr>\n    <tr>\n      <th>...</th>\n      <td>...</td>\n      <td>...</td>\n    </tr>\n    <tr>\n      <th>241066</th>\n      <td>Ã?Â?lpiraten.</td>\n      <td>2</td>\n    </tr>\n    <tr>\n      <th>241067</th>\n      <td>Ã?Â?rger mit Produkt X. Roman.</td>\n      <td>4</td>\n    </tr>\n    <tr>\n      <th>241068</th>\n      <td>Ã?Â?sterlich leben.</td>\n      <td>1</td>\n    </tr>\n    <tr>\n      <th>241069</th>\n      <td>Ã?Â?stlich der Berge.</td>\n      <td>3</td>\n    </tr>\n    <tr>\n      <th>241070</th>\n      <td>Ã?Â?thique en toc</td>\n      <td>2</td>\n    </tr>\n  </tbody>\n</table>\n<p>241071 rows × 2 columns</p>\n</div>"
          },
          "metadata": {}
        }
      ]
    },
    {
      "cell_type": "code",
      "source": "avg_rating_df = ratings_width_name.groupby('Book-Title').mean()[['Book-Rating']].reset_index()\navg_rating_df.rename(columns={'Book-Rating':'avg_ratings'},inplace = True)\navg_rating_df",
      "metadata": {
        "trusted": true
      },
      "execution_count": 18,
      "outputs": [
        {
          "name": "stderr",
          "text": "<ipython-input-18-2a9e25d5df58>:1: FutureWarning: The default value of numeric_only in DataFrameGroupBy.mean is deprecated. In a future version, numeric_only will default to False. Either specify numeric_only or select only columns which should be valid for the function.\n  avg_rating_df = ratings_width_name.groupby('Book-Title').mean()[['Book-Rating']].reset_index()\n",
          "output_type": "stream"
        },
        {
          "execution_count": 18,
          "output_type": "execute_result",
          "data": {
            "text/plain": "                                               Book-Title  avg_ratings\n0        A Light in the Storm: The Civil War Diary of ...     2.250000\n1                                   Always Have Popsicles     0.000000\n2                    Apple Magic (The Collector's series)     0.000000\n3        Ask Lily (Young Women of Faith: Lily Series, ...     8.000000\n4        Beyond IBM: Leadership Marketing and Finance ...     0.000000\n...                                                   ...          ...\n241066                                      Ã?Â?lpiraten.     0.000000\n241067                     Ã?Â?rger mit Produkt X. Roman.     5.250000\n241068                                Ã?Â?sterlich leben.     7.000000\n241069                              Ã?Â?stlich der Berge.     2.666667\n241070                                  Ã?Â?thique en toc     4.000000\n\n[241071 rows x 2 columns]",
            "text/html": "<div>\n<style scoped>\n    .dataframe tbody tr th:only-of-type {\n        vertical-align: middle;\n    }\n\n    .dataframe tbody tr th {\n        vertical-align: top;\n    }\n\n    .dataframe thead th {\n        text-align: right;\n    }\n</style>\n<table border=\"1\" class=\"dataframe\">\n  <thead>\n    <tr style=\"text-align: right;\">\n      <th></th>\n      <th>Book-Title</th>\n      <th>avg_ratings</th>\n    </tr>\n  </thead>\n  <tbody>\n    <tr>\n      <th>0</th>\n      <td>A Light in the Storm: The Civil War Diary of ...</td>\n      <td>2.250000</td>\n    </tr>\n    <tr>\n      <th>1</th>\n      <td>Always Have Popsicles</td>\n      <td>0.000000</td>\n    </tr>\n    <tr>\n      <th>2</th>\n      <td>Apple Magic (The Collector's series)</td>\n      <td>0.000000</td>\n    </tr>\n    <tr>\n      <th>3</th>\n      <td>Ask Lily (Young Women of Faith: Lily Series, ...</td>\n      <td>8.000000</td>\n    </tr>\n    <tr>\n      <th>4</th>\n      <td>Beyond IBM: Leadership Marketing and Finance ...</td>\n      <td>0.000000</td>\n    </tr>\n    <tr>\n      <th>...</th>\n      <td>...</td>\n      <td>...</td>\n    </tr>\n    <tr>\n      <th>241066</th>\n      <td>Ã?Â?lpiraten.</td>\n      <td>0.000000</td>\n    </tr>\n    <tr>\n      <th>241067</th>\n      <td>Ã?Â?rger mit Produkt X. Roman.</td>\n      <td>5.250000</td>\n    </tr>\n    <tr>\n      <th>241068</th>\n      <td>Ã?Â?sterlich leben.</td>\n      <td>7.000000</td>\n    </tr>\n    <tr>\n      <th>241069</th>\n      <td>Ã?Â?stlich der Berge.</td>\n      <td>2.666667</td>\n    </tr>\n    <tr>\n      <th>241070</th>\n      <td>Ã?Â?thique en toc</td>\n      <td>4.000000</td>\n    </tr>\n  </tbody>\n</table>\n<p>241071 rows × 2 columns</p>\n</div>"
          },
          "metadata": {}
        }
      ]
    },
    {
      "cell_type": "code",
      "source": "popular_df = num_rating_df.merge(avg_rating_df,on = 'Book-Title')\npopular_df",
      "metadata": {
        "trusted": true
      },
      "execution_count": 19,
      "outputs": [
        {
          "execution_count": 19,
          "output_type": "execute_result",
          "data": {
            "text/plain": "                                               Book-Title  num_ratings  \\\n0        A Light in the Storm: The Civil War Diary of ...            4   \n1                                   Always Have Popsicles            1   \n2                    Apple Magic (The Collector's series)            1   \n3        Ask Lily (Young Women of Faith: Lily Series, ...            1   \n4        Beyond IBM: Leadership Marketing and Finance ...            1   \n...                                                   ...          ...   \n241066                                      Ã?Â?lpiraten.            2   \n241067                     Ã?Â?rger mit Produkt X. Roman.            4   \n241068                                Ã?Â?sterlich leben.            1   \n241069                              Ã?Â?stlich der Berge.            3   \n241070                                  Ã?Â?thique en toc            2   \n\n        avg_ratings  \n0          2.250000  \n1          0.000000  \n2          0.000000  \n3          8.000000  \n4          0.000000  \n...             ...  \n241066     0.000000  \n241067     5.250000  \n241068     7.000000  \n241069     2.666667  \n241070     4.000000  \n\n[241071 rows x 3 columns]",
            "text/html": "<div>\n<style scoped>\n    .dataframe tbody tr th:only-of-type {\n        vertical-align: middle;\n    }\n\n    .dataframe tbody tr th {\n        vertical-align: top;\n    }\n\n    .dataframe thead th {\n        text-align: right;\n    }\n</style>\n<table border=\"1\" class=\"dataframe\">\n  <thead>\n    <tr style=\"text-align: right;\">\n      <th></th>\n      <th>Book-Title</th>\n      <th>num_ratings</th>\n      <th>avg_ratings</th>\n    </tr>\n  </thead>\n  <tbody>\n    <tr>\n      <th>0</th>\n      <td>A Light in the Storm: The Civil War Diary of ...</td>\n      <td>4</td>\n      <td>2.250000</td>\n    </tr>\n    <tr>\n      <th>1</th>\n      <td>Always Have Popsicles</td>\n      <td>1</td>\n      <td>0.000000</td>\n    </tr>\n    <tr>\n      <th>2</th>\n      <td>Apple Magic (The Collector's series)</td>\n      <td>1</td>\n      <td>0.000000</td>\n    </tr>\n    <tr>\n      <th>3</th>\n      <td>Ask Lily (Young Women of Faith: Lily Series, ...</td>\n      <td>1</td>\n      <td>8.000000</td>\n    </tr>\n    <tr>\n      <th>4</th>\n      <td>Beyond IBM: Leadership Marketing and Finance ...</td>\n      <td>1</td>\n      <td>0.000000</td>\n    </tr>\n    <tr>\n      <th>...</th>\n      <td>...</td>\n      <td>...</td>\n      <td>...</td>\n    </tr>\n    <tr>\n      <th>241066</th>\n      <td>Ã?Â?lpiraten.</td>\n      <td>2</td>\n      <td>0.000000</td>\n    </tr>\n    <tr>\n      <th>241067</th>\n      <td>Ã?Â?rger mit Produkt X. Roman.</td>\n      <td>4</td>\n      <td>5.250000</td>\n    </tr>\n    <tr>\n      <th>241068</th>\n      <td>Ã?Â?sterlich leben.</td>\n      <td>1</td>\n      <td>7.000000</td>\n    </tr>\n    <tr>\n      <th>241069</th>\n      <td>Ã?Â?stlich der Berge.</td>\n      <td>3</td>\n      <td>2.666667</td>\n    </tr>\n    <tr>\n      <th>241070</th>\n      <td>Ã?Â?thique en toc</td>\n      <td>2</td>\n      <td>4.000000</td>\n    </tr>\n  </tbody>\n</table>\n<p>241071 rows × 3 columns</p>\n</div>"
          },
          "metadata": {}
        }
      ]
    },
    {
      "cell_type": "code",
      "source": "popular_df = popular_df[popular_df['num_ratings']>=250].sort_values('avg_ratings',ascending = False).head(20)",
      "metadata": {
        "trusted": true
      },
      "execution_count": 20,
      "outputs": []
    },
    {
      "cell_type": "code",
      "source": "popular_df = popular_df.merge(books,on = 'Book-Title').drop_duplicates('Book-Title')[['Book-Title','Book-Author','Image-URL-S','num_ratings','avg_ratings']]",
      "metadata": {
        "trusted": true
      },
      "execution_count": 21,
      "outputs": []
    },
    {
      "cell_type": "code",
      "source": "popular_df",
      "metadata": {
        "trusted": true
      },
      "execution_count": 22,
      "outputs": [
        {
          "execution_count": 22,
          "output_type": "execute_result",
          "data": {
            "text/plain": "                                           Book-Title         Book-Author  \\\n0   Harry Potter and the Prisoner of Azkaban (Book 3)       J. K. Rowling   \n3        Harry Potter and the Goblet of Fire (Book 4)       J. K. Rowling   \n5      Harry Potter and the Sorcerer's Stone (Book 1)       J. K. Rowling   \n9   Harry Potter and the Order of the Phoenix (Boo...       J. K. Rowling   \n13   Harry Potter and the Chamber of Secrets (Book 2)       J. K. Rowling   \n16  The Hobbit : The Enchanting Prelude to The Lor...      J.R.R. TOLKIEN   \n17  The Fellowship of the Ring (The Lord of the Ri...      J.R.R. TOLKIEN   \n26  Harry Potter and the Sorcerer's Stone (Harry P...       J. K. Rowling   \n28     The Two Towers (The Lord of the Rings, Part 2)      J.R.R. TOLKIEN   \n39                              To Kill a Mockingbird          Harper Lee   \n47                                  The Da Vinci Code           Dan Brown   \n53                 The Five People You Meet in Heaven         Mitch Albom   \n55                             The Catcher in the Rye       J.D. Salinger   \n62                          The Lovely Bones: A Novel        Alice Sebold   \n63                                               1984       George Orwell   \n72                           Prodigal Summer: A Novel  Barbara Kingsolver   \n73                                         Neverwhere         Neil Gaiman   \n78                            The Secret Life of Bees       Sue Monk Kidd   \n84  Stupid White Men ...and Other Sorry Excuses fo...       Michael Moore   \n85  Tuesdays with Morrie: An Old Man, a Young Man,...         MITCH ALBOM   \n\n                                          Image-URL-S  num_ratings  \\\n0   http://images.amazon.com/images/P/0439136350.0...          428   \n3   http://images.amazon.com/images/P/0439139597.0...          387   \n5   http://images.amazon.com/images/P/0590353403.0...          278   \n9   http://images.amazon.com/images/P/043935806X.0...          347   \n13  http://images.amazon.com/images/P/0439064872.0...          556   \n16  http://images.amazon.com/images/P/0345339681.0...          281   \n17  http://images.amazon.com/images/P/0345339703.0...          368   \n26  http://images.amazon.com/images/P/059035342X.0...          575   \n28  http://images.amazon.com/images/P/0345339711.0...          260   \n39  http://images.amazon.com/images/P/0446310786.0...          510   \n47  http://images.amazon.com/images/P/0385504209.0...          898   \n53  http://images.amazon.com/images/P/0786868716.0...          430   \n55  http://images.amazon.com/images/P/0316769487.0...          449   \n62  http://images.amazon.com/images/P/0316666343.0...         1295   \n63  http://images.amazon.com/images/P/0451524934.0...          284   \n72  http://images.amazon.com/images/P/0060959037.0...          253   \n73  http://images.amazon.com/images/P/0380789019.0...          265   \n78  http://images.amazon.com/images/P/0142001740.0...          774   \n84  http://images.amazon.com/images/P/0060392452.0...          283   \n85  http://images.amazon.com/images/P/0385484518.0...          493   \n\n    avg_ratings  \n0      5.852804  \n3      5.824289  \n5      5.737410  \n9      5.501441  \n13     5.183453  \n16     5.007117  \n17     4.948370  \n26     4.895652  \n28     4.880769  \n39     4.700000  \n47     4.642539  \n53     4.551163  \n55     4.545657  \n62     4.468726  \n63     4.454225  \n72     4.450593  \n73     4.449057  \n78     4.447028  \n84     4.356890  \n85     4.354970  ",
            "text/html": "<div>\n<style scoped>\n    .dataframe tbody tr th:only-of-type {\n        vertical-align: middle;\n    }\n\n    .dataframe tbody tr th {\n        vertical-align: top;\n    }\n\n    .dataframe thead th {\n        text-align: right;\n    }\n</style>\n<table border=\"1\" class=\"dataframe\">\n  <thead>\n    <tr style=\"text-align: right;\">\n      <th></th>\n      <th>Book-Title</th>\n      <th>Book-Author</th>\n      <th>Image-URL-S</th>\n      <th>num_ratings</th>\n      <th>avg_ratings</th>\n    </tr>\n  </thead>\n  <tbody>\n    <tr>\n      <th>0</th>\n      <td>Harry Potter and the Prisoner of Azkaban (Book 3)</td>\n      <td>J. K. Rowling</td>\n      <td>http://images.amazon.com/images/P/0439136350.0...</td>\n      <td>428</td>\n      <td>5.852804</td>\n    </tr>\n    <tr>\n      <th>3</th>\n      <td>Harry Potter and the Goblet of Fire (Book 4)</td>\n      <td>J. K. Rowling</td>\n      <td>http://images.amazon.com/images/P/0439139597.0...</td>\n      <td>387</td>\n      <td>5.824289</td>\n    </tr>\n    <tr>\n      <th>5</th>\n      <td>Harry Potter and the Sorcerer's Stone (Book 1)</td>\n      <td>J. K. Rowling</td>\n      <td>http://images.amazon.com/images/P/0590353403.0...</td>\n      <td>278</td>\n      <td>5.737410</td>\n    </tr>\n    <tr>\n      <th>9</th>\n      <td>Harry Potter and the Order of the Phoenix (Boo...</td>\n      <td>J. K. Rowling</td>\n      <td>http://images.amazon.com/images/P/043935806X.0...</td>\n      <td>347</td>\n      <td>5.501441</td>\n    </tr>\n    <tr>\n      <th>13</th>\n      <td>Harry Potter and the Chamber of Secrets (Book 2)</td>\n      <td>J. K. Rowling</td>\n      <td>http://images.amazon.com/images/P/0439064872.0...</td>\n      <td>556</td>\n      <td>5.183453</td>\n    </tr>\n    <tr>\n      <th>16</th>\n      <td>The Hobbit : The Enchanting Prelude to The Lor...</td>\n      <td>J.R.R. TOLKIEN</td>\n      <td>http://images.amazon.com/images/P/0345339681.0...</td>\n      <td>281</td>\n      <td>5.007117</td>\n    </tr>\n    <tr>\n      <th>17</th>\n      <td>The Fellowship of the Ring (The Lord of the Ri...</td>\n      <td>J.R.R. TOLKIEN</td>\n      <td>http://images.amazon.com/images/P/0345339703.0...</td>\n      <td>368</td>\n      <td>4.948370</td>\n    </tr>\n    <tr>\n      <th>26</th>\n      <td>Harry Potter and the Sorcerer's Stone (Harry P...</td>\n      <td>J. K. Rowling</td>\n      <td>http://images.amazon.com/images/P/059035342X.0...</td>\n      <td>575</td>\n      <td>4.895652</td>\n    </tr>\n    <tr>\n      <th>28</th>\n      <td>The Two Towers (The Lord of the Rings, Part 2)</td>\n      <td>J.R.R. TOLKIEN</td>\n      <td>http://images.amazon.com/images/P/0345339711.0...</td>\n      <td>260</td>\n      <td>4.880769</td>\n    </tr>\n    <tr>\n      <th>39</th>\n      <td>To Kill a Mockingbird</td>\n      <td>Harper Lee</td>\n      <td>http://images.amazon.com/images/P/0446310786.0...</td>\n      <td>510</td>\n      <td>4.700000</td>\n    </tr>\n    <tr>\n      <th>47</th>\n      <td>The Da Vinci Code</td>\n      <td>Dan Brown</td>\n      <td>http://images.amazon.com/images/P/0385504209.0...</td>\n      <td>898</td>\n      <td>4.642539</td>\n    </tr>\n    <tr>\n      <th>53</th>\n      <td>The Five People You Meet in Heaven</td>\n      <td>Mitch Albom</td>\n      <td>http://images.amazon.com/images/P/0786868716.0...</td>\n      <td>430</td>\n      <td>4.551163</td>\n    </tr>\n    <tr>\n      <th>55</th>\n      <td>The Catcher in the Rye</td>\n      <td>J.D. Salinger</td>\n      <td>http://images.amazon.com/images/P/0316769487.0...</td>\n      <td>449</td>\n      <td>4.545657</td>\n    </tr>\n    <tr>\n      <th>62</th>\n      <td>The Lovely Bones: A Novel</td>\n      <td>Alice Sebold</td>\n      <td>http://images.amazon.com/images/P/0316666343.0...</td>\n      <td>1295</td>\n      <td>4.468726</td>\n    </tr>\n    <tr>\n      <th>63</th>\n      <td>1984</td>\n      <td>George Orwell</td>\n      <td>http://images.amazon.com/images/P/0451524934.0...</td>\n      <td>284</td>\n      <td>4.454225</td>\n    </tr>\n    <tr>\n      <th>72</th>\n      <td>Prodigal Summer: A Novel</td>\n      <td>Barbara Kingsolver</td>\n      <td>http://images.amazon.com/images/P/0060959037.0...</td>\n      <td>253</td>\n      <td>4.450593</td>\n    </tr>\n    <tr>\n      <th>73</th>\n      <td>Neverwhere</td>\n      <td>Neil Gaiman</td>\n      <td>http://images.amazon.com/images/P/0380789019.0...</td>\n      <td>265</td>\n      <td>4.449057</td>\n    </tr>\n    <tr>\n      <th>78</th>\n      <td>The Secret Life of Bees</td>\n      <td>Sue Monk Kidd</td>\n      <td>http://images.amazon.com/images/P/0142001740.0...</td>\n      <td>774</td>\n      <td>4.447028</td>\n    </tr>\n    <tr>\n      <th>84</th>\n      <td>Stupid White Men ...and Other Sorry Excuses fo...</td>\n      <td>Michael Moore</td>\n      <td>http://images.amazon.com/images/P/0060392452.0...</td>\n      <td>283</td>\n      <td>4.356890</td>\n    </tr>\n    <tr>\n      <th>85</th>\n      <td>Tuesdays with Morrie: An Old Man, a Young Man,...</td>\n      <td>MITCH ALBOM</td>\n      <td>http://images.amazon.com/images/P/0385484518.0...</td>\n      <td>493</td>\n      <td>4.354970</td>\n    </tr>\n  </tbody>\n</table>\n</div>"
          },
          "metadata": {}
        }
      ]
    },
    {
      "cell_type": "markdown",
      "source": "## Collaborative Filtering Based Recommender System",
      "metadata": {}
    },
    {
      "cell_type": "code",
      "source": "x=ratings_width_name.groupby('User-ID').count()['Book-Rating']>200\neducated_users=x[x].index",
      "metadata": {
        "trusted": true
      },
      "execution_count": 23,
      "outputs": []
    },
    {
      "cell_type": "code",
      "source": "filtered_rating = ratings_width_name[ratings_width_name['User-ID'].isin(educated_users)]",
      "metadata": {
        "trusted": true
      },
      "execution_count": 24,
      "outputs": []
    },
    {
      "cell_type": "code",
      "source": "y=filtered_rating.groupby('Book-Title').count()['Book-Rating']>=50\nfamous_books = y[y].index",
      "metadata": {
        "trusted": true
      },
      "execution_count": 25,
      "outputs": []
    },
    {
      "cell_type": "code",
      "source": "final_ratings = filtered_rating[filtered_rating['Book-Title'].isin(famous_books)]",
      "metadata": {
        "trusted": true
      },
      "execution_count": 26,
      "outputs": []
    },
    {
      "cell_type": "code",
      "source": "pt = final_ratings.pivot_table(index ='Book-Title',columns = 'User-ID', values ='Book-Rating')\n",
      "metadata": {
        "trusted": true
      },
      "execution_count": 27,
      "outputs": []
    },
    {
      "cell_type": "code",
      "source": "pt.fillna(0,inplace = True)",
      "metadata": {
        "trusted": true
      },
      "execution_count": 28,
      "outputs": []
    },
    {
      "cell_type": "code",
      "source": "pt",
      "metadata": {
        "trusted": true
      },
      "execution_count": 29,
      "outputs": [
        {
          "execution_count": 29,
          "output_type": "execute_result",
          "data": {
            "text/plain": "User-ID                                             254     2276    2766    \\\nBook-Title                                                                   \n1984                                                   9.0     0.0     0.0   \n1st to Die: A Novel                                    0.0     0.0     0.0   \n2nd Chance                                             0.0    10.0     0.0   \n4 Blondes                                              0.0     0.0     0.0   \nA Bend in the Road                                     0.0     0.0     7.0   \n...                                                    ...     ...     ...   \nYear of Wonders                                        0.0     0.0     0.0   \nYou Belong To Me                                       0.0     0.0     0.0   \nZen and the Art of Motorcycle Maintenance: An I...     0.0     0.0     0.0   \nZoya                                                   0.0     0.0     0.0   \n\\O\\\" Is for Outlaw\"                                    0.0     0.0     0.0   \n\nUser-ID                                             2977    3363    4017    \\\nBook-Title                                                                   \n1984                                                   0.0     0.0     0.0   \n1st to Die: A Novel                                    0.0     0.0     0.0   \n2nd Chance                                             0.0     0.0     0.0   \n4 Blondes                                              0.0     0.0     0.0   \nA Bend in the Road                                     0.0     0.0     0.0   \n...                                                    ...     ...     ...   \nYear of Wonders                                        7.0     0.0     0.0   \nYou Belong To Me                                       0.0     0.0     0.0   \nZen and the Art of Motorcycle Maintenance: An I...     0.0     0.0     0.0   \nZoya                                                   0.0     0.0     0.0   \n\\O\\\" Is for Outlaw\"                                    0.0     0.0     0.0   \n\nUser-ID                                             4385    6251    6323    \\\nBook-Title                                                                   \n1984                                                   0.0     0.0     0.0   \n1st to Die: A Novel                                    0.0     0.0     0.0   \n2nd Chance                                             0.0     0.0     0.0   \n4 Blondes                                              0.0     0.0     0.0   \nA Bend in the Road                                     0.0     0.0     0.0   \n...                                                    ...     ...     ...   \nYear of Wonders                                        0.0     0.0     0.0   \nYou Belong To Me                                       0.0     0.0     0.0   \nZen and the Art of Motorcycle Maintenance: An I...     0.0     0.0     0.0   \nZoya                                                   0.0     0.0     0.0   \n\\O\\\" Is for Outlaw\"                                    0.0     0.0     0.0   \n\nUser-ID                                             6543    ...  271705  \\\nBook-Title                                                  ...           \n1984                                                   0.0  ...    10.0   \n1st to Die: A Novel                                    9.0  ...     0.0   \n2nd Chance                                             0.0  ...     0.0   \n4 Blondes                                              0.0  ...     0.0   \nA Bend in the Road                                     0.0  ...     0.0   \n...                                                    ...  ...     ...   \nYear of Wonders                                        0.0  ...     0.0   \nYou Belong To Me                                       0.0  ...     0.0   \nZen and the Art of Motorcycle Maintenance: An I...     0.0  ...     0.0   \nZoya                                                   0.0  ...     0.0   \n\\O\\\" Is for Outlaw\"                                    0.0  ...     0.0   \n\nUser-ID                                             273979  274004  274061  \\\nBook-Title                                                                   \n1984                                                   0.0     0.0     0.0   \n1st to Die: A Novel                                    0.0     0.0     0.0   \n2nd Chance                                             0.0     0.0     0.0   \n4 Blondes                                              0.0     0.0     0.0   \nA Bend in the Road                                     0.0     0.0     0.0   \n...                                                    ...     ...     ...   \nYear of Wonders                                        9.0     0.0     0.0   \nYou Belong To Me                                       0.0     0.0     0.0   \nZen and the Art of Motorcycle Maintenance: An I...     0.0     0.0     0.0   \nZoya                                                   0.0     0.0     0.0   \n\\O\\\" Is for Outlaw\"                                    0.0     0.0     0.0   \n\nUser-ID                                             274301  274308  275970  \\\nBook-Title                                                                   \n1984                                                   0.0     0.0     0.0   \n1st to Die: A Novel                                    0.0     0.0     0.0   \n2nd Chance                                             0.0     0.0     0.0   \n4 Blondes                                              0.0     0.0     0.0   \nA Bend in the Road                                     0.0     0.0     0.0   \n...                                                    ...     ...     ...   \nYear of Wonders                                        0.0     0.0     0.0   \nYou Belong To Me                                       0.0     0.0     0.0   \nZen and the Art of Motorcycle Maintenance: An I...     0.0     0.0     0.0   \nZoya                                                   0.0     0.0     0.0   \n\\O\\\" Is for Outlaw\"                                    8.0     0.0     0.0   \n\nUser-ID                                             277427  277639  278418  \nBook-Title                                                                  \n1984                                                   0.0     0.0     0.0  \n1st to Die: A Novel                                    0.0     0.0     0.0  \n2nd Chance                                             0.0     0.0     0.0  \n4 Blondes                                              0.0     0.0     0.0  \nA Bend in the Road                                     0.0     0.0     0.0  \n...                                                    ...     ...     ...  \nYear of Wonders                                        0.0     0.0     0.0  \nYou Belong To Me                                       0.0     0.0     0.0  \nZen and the Art of Motorcycle Maintenance: An I...     0.0     0.0     0.0  \nZoya                                                   0.0     0.0     0.0  \n\\O\\\" Is for Outlaw\"                                    0.0     0.0     0.0  \n\n[706 rows x 810 columns]",
            "text/html": "<div>\n<style scoped>\n    .dataframe tbody tr th:only-of-type {\n        vertical-align: middle;\n    }\n\n    .dataframe tbody tr th {\n        vertical-align: top;\n    }\n\n    .dataframe thead th {\n        text-align: right;\n    }\n</style>\n<table border=\"1\" class=\"dataframe\">\n  <thead>\n    <tr style=\"text-align: right;\">\n      <th>User-ID</th>\n      <th>254</th>\n      <th>2276</th>\n      <th>2766</th>\n      <th>2977</th>\n      <th>3363</th>\n      <th>4017</th>\n      <th>4385</th>\n      <th>6251</th>\n      <th>6323</th>\n      <th>6543</th>\n      <th>...</th>\n      <th>271705</th>\n      <th>273979</th>\n      <th>274004</th>\n      <th>274061</th>\n      <th>274301</th>\n      <th>274308</th>\n      <th>275970</th>\n      <th>277427</th>\n      <th>277639</th>\n      <th>278418</th>\n    </tr>\n    <tr>\n      <th>Book-Title</th>\n      <th></th>\n      <th></th>\n      <th></th>\n      <th></th>\n      <th></th>\n      <th></th>\n      <th></th>\n      <th></th>\n      <th></th>\n      <th></th>\n      <th></th>\n      <th></th>\n      <th></th>\n      <th></th>\n      <th></th>\n      <th></th>\n      <th></th>\n      <th></th>\n      <th></th>\n      <th></th>\n      <th></th>\n    </tr>\n  </thead>\n  <tbody>\n    <tr>\n      <th>1984</th>\n      <td>9.0</td>\n      <td>0.0</td>\n      <td>0.0</td>\n      <td>0.0</td>\n      <td>0.0</td>\n      <td>0.0</td>\n      <td>0.0</td>\n      <td>0.0</td>\n      <td>0.0</td>\n      <td>0.0</td>\n      <td>...</td>\n      <td>10.0</td>\n      <td>0.0</td>\n      <td>0.0</td>\n      <td>0.0</td>\n      <td>0.0</td>\n      <td>0.0</td>\n      <td>0.0</td>\n      <td>0.0</td>\n      <td>0.0</td>\n      <td>0.0</td>\n    </tr>\n    <tr>\n      <th>1st to Die: A Novel</th>\n      <td>0.0</td>\n      <td>0.0</td>\n      <td>0.0</td>\n      <td>0.0</td>\n      <td>0.0</td>\n      <td>0.0</td>\n      <td>0.0</td>\n      <td>0.0</td>\n      <td>0.0</td>\n      <td>9.0</td>\n      <td>...</td>\n      <td>0.0</td>\n      <td>0.0</td>\n      <td>0.0</td>\n      <td>0.0</td>\n      <td>0.0</td>\n      <td>0.0</td>\n      <td>0.0</td>\n      <td>0.0</td>\n      <td>0.0</td>\n      <td>0.0</td>\n    </tr>\n    <tr>\n      <th>2nd Chance</th>\n      <td>0.0</td>\n      <td>10.0</td>\n      <td>0.0</td>\n      <td>0.0</td>\n      <td>0.0</td>\n      <td>0.0</td>\n      <td>0.0</td>\n      <td>0.0</td>\n      <td>0.0</td>\n      <td>0.0</td>\n      <td>...</td>\n      <td>0.0</td>\n      <td>0.0</td>\n      <td>0.0</td>\n      <td>0.0</td>\n      <td>0.0</td>\n      <td>0.0</td>\n      <td>0.0</td>\n      <td>0.0</td>\n      <td>0.0</td>\n      <td>0.0</td>\n    </tr>\n    <tr>\n      <th>4 Blondes</th>\n      <td>0.0</td>\n      <td>0.0</td>\n      <td>0.0</td>\n      <td>0.0</td>\n      <td>0.0</td>\n      <td>0.0</td>\n      <td>0.0</td>\n      <td>0.0</td>\n      <td>0.0</td>\n      <td>0.0</td>\n      <td>...</td>\n      <td>0.0</td>\n      <td>0.0</td>\n      <td>0.0</td>\n      <td>0.0</td>\n      <td>0.0</td>\n      <td>0.0</td>\n      <td>0.0</td>\n      <td>0.0</td>\n      <td>0.0</td>\n      <td>0.0</td>\n    </tr>\n    <tr>\n      <th>A Bend in the Road</th>\n      <td>0.0</td>\n      <td>0.0</td>\n      <td>7.0</td>\n      <td>0.0</td>\n      <td>0.0</td>\n      <td>0.0</td>\n      <td>0.0</td>\n      <td>0.0</td>\n      <td>0.0</td>\n      <td>0.0</td>\n      <td>...</td>\n      <td>0.0</td>\n      <td>0.0</td>\n      <td>0.0</td>\n      <td>0.0</td>\n      <td>0.0</td>\n      <td>0.0</td>\n      <td>0.0</td>\n      <td>0.0</td>\n      <td>0.0</td>\n      <td>0.0</td>\n    </tr>\n    <tr>\n      <th>...</th>\n      <td>...</td>\n      <td>...</td>\n      <td>...</td>\n      <td>...</td>\n      <td>...</td>\n      <td>...</td>\n      <td>...</td>\n      <td>...</td>\n      <td>...</td>\n      <td>...</td>\n      <td>...</td>\n      <td>...</td>\n      <td>...</td>\n      <td>...</td>\n      <td>...</td>\n      <td>...</td>\n      <td>...</td>\n      <td>...</td>\n      <td>...</td>\n      <td>...</td>\n      <td>...</td>\n    </tr>\n    <tr>\n      <th>Year of Wonders</th>\n      <td>0.0</td>\n      <td>0.0</td>\n      <td>0.0</td>\n      <td>7.0</td>\n      <td>0.0</td>\n      <td>0.0</td>\n      <td>0.0</td>\n      <td>0.0</td>\n      <td>0.0</td>\n      <td>0.0</td>\n      <td>...</td>\n      <td>0.0</td>\n      <td>9.0</td>\n      <td>0.0</td>\n      <td>0.0</td>\n      <td>0.0</td>\n      <td>0.0</td>\n      <td>0.0</td>\n      <td>0.0</td>\n      <td>0.0</td>\n      <td>0.0</td>\n    </tr>\n    <tr>\n      <th>You Belong To Me</th>\n      <td>0.0</td>\n      <td>0.0</td>\n      <td>0.0</td>\n      <td>0.0</td>\n      <td>0.0</td>\n      <td>0.0</td>\n      <td>0.0</td>\n      <td>0.0</td>\n      <td>0.0</td>\n      <td>0.0</td>\n      <td>...</td>\n      <td>0.0</td>\n      <td>0.0</td>\n      <td>0.0</td>\n      <td>0.0</td>\n      <td>0.0</td>\n      <td>0.0</td>\n      <td>0.0</td>\n      <td>0.0</td>\n      <td>0.0</td>\n      <td>0.0</td>\n    </tr>\n    <tr>\n      <th>Zen and the Art of Motorcycle Maintenance: An Inquiry into Values</th>\n      <td>0.0</td>\n      <td>0.0</td>\n      <td>0.0</td>\n      <td>0.0</td>\n      <td>0.0</td>\n      <td>0.0</td>\n      <td>0.0</td>\n      <td>0.0</td>\n      <td>0.0</td>\n      <td>0.0</td>\n      <td>...</td>\n      <td>0.0</td>\n      <td>0.0</td>\n      <td>0.0</td>\n      <td>0.0</td>\n      <td>0.0</td>\n      <td>0.0</td>\n      <td>0.0</td>\n      <td>0.0</td>\n      <td>0.0</td>\n      <td>0.0</td>\n    </tr>\n    <tr>\n      <th>Zoya</th>\n      <td>0.0</td>\n      <td>0.0</td>\n      <td>0.0</td>\n      <td>0.0</td>\n      <td>0.0</td>\n      <td>0.0</td>\n      <td>0.0</td>\n      <td>0.0</td>\n      <td>0.0</td>\n      <td>0.0</td>\n      <td>...</td>\n      <td>0.0</td>\n      <td>0.0</td>\n      <td>0.0</td>\n      <td>0.0</td>\n      <td>0.0</td>\n      <td>0.0</td>\n      <td>0.0</td>\n      <td>0.0</td>\n      <td>0.0</td>\n      <td>0.0</td>\n    </tr>\n    <tr>\n      <th>\\O\\\" Is for Outlaw\"</th>\n      <td>0.0</td>\n      <td>0.0</td>\n      <td>0.0</td>\n      <td>0.0</td>\n      <td>0.0</td>\n      <td>0.0</td>\n      <td>0.0</td>\n      <td>0.0</td>\n      <td>0.0</td>\n      <td>0.0</td>\n      <td>...</td>\n      <td>0.0</td>\n      <td>0.0</td>\n      <td>0.0</td>\n      <td>0.0</td>\n      <td>8.0</td>\n      <td>0.0</td>\n      <td>0.0</td>\n      <td>0.0</td>\n      <td>0.0</td>\n      <td>0.0</td>\n    </tr>\n  </tbody>\n</table>\n<p>706 rows × 810 columns</p>\n</div>"
          },
          "metadata": {}
        }
      ]
    },
    {
      "cell_type": "code",
      "source": "from sklearn.metrics.pairwise import cosine_similarity",
      "metadata": {
        "trusted": true
      },
      "execution_count": 30,
      "outputs": []
    },
    {
      "cell_type": "code",
      "source": "similarity_scores = cosine_similarity(pt)",
      "metadata": {
        "trusted": true
      },
      "execution_count": 31,
      "outputs": []
    },
    {
      "cell_type": "code",
      "source": "def recommend(book_name):\n    # index fetch\n    index = np.where(pt.index == book_name)[0][0]\n    similar_items = sorted(list(enumerate(similarity_scores[index])),key = lambda x:x[1],reverse = True)[1:6]\n    \n    data = []\n    for i in similar_items:\n        item = []\n        temp_df = books[books['Book-Title'] == pt.index[i[0]]]\n        item.extend(list(temp_df.drop_duplicates('Book-Title')['Book-Title'].values))\n        item.extend(list(temp_df.drop_duplicates('Book-Title')['Book-Author'].values))\n        item.extend(list(temp_df.drop_duplicates('Book-Title')['Image-URL-S'].values))\n        \n        data.append(item)\n    return data",
      "metadata": {
        "trusted": true
      },
      "execution_count": 32,
      "outputs": []
    },
    {
      "cell_type": "code",
      "source": "recommend('1984')",
      "metadata": {
        "trusted": true
      },
      "execution_count": 33,
      "outputs": [
        {
          "execution_count": 33,
          "output_type": "execute_result",
          "data": {
            "text/plain": "[['Animal Farm',\n  'George Orwell',\n  'http://images.amazon.com/images/P/0451526341.01.THUMBZZZ.jpg'],\n [\"The Handmaid's Tale\",\n  'Margaret Atwood',\n  'http://images.amazon.com/images/P/0449212602.01.THUMBZZZ.jpg'],\n ['Brave New World',\n  'Aldous Huxley',\n  'http://images.amazon.com/images/P/0060809833.01.THUMBZZZ.jpg'],\n ['The Vampire Lestat (Vampire Chronicles, Book II)',\n  'ANNE RICE',\n  'http://images.amazon.com/images/P/0345313860.01.THUMBZZZ.jpg'],\n ['The Hours : A Novel',\n  'Michael Cunningham',\n  'http://images.amazon.com/images/P/0312243022.01.THUMBZZZ.jpg']]"
          },
          "metadata": {}
        }
      ]
    },
    {
      "cell_type": "code",
      "source": "import pickle\npickle.dump(popular_df,open('popular.pkl','wb'))",
      "metadata": {
        "trusted": true
      },
      "execution_count": 34,
      "outputs": []
    },
    {
      "cell_type": "code",
      "source": "pickle.dump(pt,open('pt.pkl','wb'))\npickle.dump(books,open('books.pkl','wb'))\npickle.dump(similarity_scores,open('similarity_scores.pkl','wb'))",
      "metadata": {
        "trusted": true
      },
      "execution_count": 35,
      "outputs": []
    },
    {
      "cell_type": "code",
      "source": "# compute cosine similarity\nsimilarity_scores",
      "metadata": {
        "trusted": true
      },
      "execution_count": 36,
      "outputs": [
        {
          "execution_count": 36,
          "output_type": "execute_result",
          "data": {
            "text/plain": "array([[1.        , 0.10255025, 0.01220856, ..., 0.12110367, 0.07347567,\n        0.04316046],\n       [0.10255025, 1.        , 0.2364573 , ..., 0.07446129, 0.16773875,\n        0.14263397],\n       [0.01220856, 0.2364573 , 1.        , ..., 0.04558758, 0.04938579,\n        0.10796119],\n       ...,\n       [0.12110367, 0.07446129, 0.04558758, ..., 1.        , 0.07085128,\n        0.0196177 ],\n       [0.07347567, 0.16773875, 0.04938579, ..., 0.07085128, 1.        ,\n        0.10602962],\n       [0.04316046, 0.14263397, 0.10796119, ..., 0.0196177 , 0.10602962,\n        1.        ]])"
          },
          "metadata": {}
        }
      ]
    },
    {
      "cell_type": "code",
      "source": "",
      "metadata": {},
      "execution_count": null,
      "outputs": []
    }
  ]
}